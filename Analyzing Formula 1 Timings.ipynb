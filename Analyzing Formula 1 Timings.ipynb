{
 "cells": [
  {
   "cell_type": "markdown",
   "id": "804155a5",
   "metadata": {},
   "source": [
    "Shreyas Vaderiyattil, Ritvik Singh, Shiv Rathod"
   ]
  },
  {
   "cell_type": "markdown",
   "id": "9a8a8a91",
   "metadata": {},
   "source": [
    "Introduction\n",
    "\n",
    "Formula One is an international racing league that gathers the top drivers from around the world and they compete against each other using one of the fastest cars built for racing on circuits around the world. In this tutorial we will be analyizing the lap times of various drivers as well as their pit stop times. In addition, we will take a look at these timings and compare it to their qualified place for the race and see if a driver would place above or below their qualified time.\n",
    "\n",
    "Predicting what place a driver can place is important to not only the racing team and driver but also fans that follow the sport. Racing teams and drivers find this useful for their approach and strategy for the race. This can help with fast decisions that are needed during a race between the driver and the team"
   ]
  },
  {
   "cell_type": "raw",
   "id": "58ed9a8a",
   "metadata": {},
   "source": [
    "Data\n",
    "\n",
    "We looked into data on Kaggle which featured qualifying, circuit, pit stop time, lap time, and more. We found other databases that had similar datasets however, Kaggle provided all the data in an organized fashion."
   ]
  }
 ],
 "metadata": {
  "kernelspec": {
   "display_name": "Python 3 (ipykernel)",
   "language": "python",
   "name": "python3"
  },
  "language_info": {
   "codemirror_mode": {
    "name": "ipython",
    "version": 3
   },
   "file_extension": ".py",
   "mimetype": "text/x-python",
   "name": "python",
   "nbconvert_exporter": "python",
   "pygments_lexer": "ipython3",
   "version": "3.9.5"
  }
 },
 "nbformat": 4,
 "nbformat_minor": 5
}
